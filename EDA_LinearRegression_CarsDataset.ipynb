{
 "cells": [
  {
   "cell_type": "code",
   "execution_count": 1,
   "metadata": {},
   "outputs": [],
   "source": [
    "import os\n",
    "import pandas as pd\n",
    "import numpy as np\n",
    "import seaborn as sns\n",
    "import matplotlib.pyplot as plt"
   ]
  },
  {
   "cell_type": "code",
   "execution_count": 2,
   "metadata": {},
   "outputs": [],
   "source": [
    "os.chdir('D:/python')"
   ]
  },
  {
   "cell_type": "code",
   "execution_count": 3,
   "metadata": {},
   "outputs": [],
   "source": [
    "cars_sampled=pd.read_excel('cars_sampled.xlsx',na_values=[\"??\",\"????\"])"
   ]
  },
  {
   "cell_type": "code",
   "execution_count": 4,
   "metadata": {},
   "outputs": [
    {
     "data": {
      "text/html": [
       "<div>\n",
       "<style scoped>\n",
       "    .dataframe tbody tr th:only-of-type {\n",
       "        vertical-align: middle;\n",
       "    }\n",
       "\n",
       "    .dataframe tbody tr th {\n",
       "        vertical-align: top;\n",
       "    }\n",
       "\n",
       "    .dataframe thead th {\n",
       "        text-align: right;\n",
       "    }\n",
       "</style>\n",
       "<table border=\"1\" class=\"dataframe\">\n",
       "  <thead>\n",
       "    <tr style=\"text-align: right;\">\n",
       "      <th></th>\n",
       "      <th>dateCrawled</th>\n",
       "      <th>name</th>\n",
       "      <th>seller</th>\n",
       "      <th>offerType</th>\n",
       "      <th>price</th>\n",
       "      <th>abtest</th>\n",
       "      <th>vehicleType</th>\n",
       "      <th>yearOfRegistration</th>\n",
       "      <th>gearbox</th>\n",
       "      <th>powerPS</th>\n",
       "      <th>model</th>\n",
       "      <th>kilometer</th>\n",
       "      <th>monthOfRegistration</th>\n",
       "      <th>fuelType</th>\n",
       "      <th>brand</th>\n",
       "      <th>notRepairedDamage</th>\n",
       "      <th>dateCreated</th>\n",
       "      <th>postalCode</th>\n",
       "      <th>lastSeen</th>\n",
       "    </tr>\n",
       "  </thead>\n",
       "  <tbody>\n",
       "    <tr>\n",
       "      <th>0</th>\n",
       "      <td>30/03/2016 13:51</td>\n",
       "      <td>Zu_verkaufen</td>\n",
       "      <td>private</td>\n",
       "      <td>offer</td>\n",
       "      <td>4450</td>\n",
       "      <td>test</td>\n",
       "      <td>limousine</td>\n",
       "      <td>2003</td>\n",
       "      <td>manual</td>\n",
       "      <td>150</td>\n",
       "      <td>3er</td>\n",
       "      <td>150000</td>\n",
       "      <td>3</td>\n",
       "      <td>diesel</td>\n",
       "      <td>bmw</td>\n",
       "      <td>NaN</td>\n",
       "      <td>30/03/2016 0:00</td>\n",
       "      <td>20257</td>\n",
       "      <td>2016-07-04 04:44:00</td>\n",
       "    </tr>\n",
       "    <tr>\n",
       "      <th>1</th>\n",
       "      <td>2016-07-03 09:54:00</td>\n",
       "      <td>Volvo_XC90_2.4D_Summum</td>\n",
       "      <td>private</td>\n",
       "      <td>offer</td>\n",
       "      <td>13299</td>\n",
       "      <td>control</td>\n",
       "      <td>suv</td>\n",
       "      <td>2005</td>\n",
       "      <td>manual</td>\n",
       "      <td>163</td>\n",
       "      <td>xc_reihe</td>\n",
       "      <td>150000</td>\n",
       "      <td>6</td>\n",
       "      <td>diesel</td>\n",
       "      <td>volvo</td>\n",
       "      <td>no</td>\n",
       "      <td>2016-07-03 00:00:00</td>\n",
       "      <td>88045</td>\n",
       "      <td>26/03/2016 13:17</td>\n",
       "    </tr>\n",
       "    <tr>\n",
       "      <th>2</th>\n",
       "      <td>2016-01-04 00:57:00</td>\n",
       "      <td>Volkswagen_Touran</td>\n",
       "      <td>private</td>\n",
       "      <td>offer</td>\n",
       "      <td>3200</td>\n",
       "      <td>test</td>\n",
       "      <td>bus</td>\n",
       "      <td>2003</td>\n",
       "      <td>manual</td>\n",
       "      <td>101</td>\n",
       "      <td>touran</td>\n",
       "      <td>150000</td>\n",
       "      <td>11</td>\n",
       "      <td>diesel</td>\n",
       "      <td>volkswagen</td>\n",
       "      <td>NaN</td>\n",
       "      <td>31/03/2016 0:00</td>\n",
       "      <td>27449</td>\n",
       "      <td>2016-01-04 08:40:00</td>\n",
       "    </tr>\n",
       "    <tr>\n",
       "      <th>3</th>\n",
       "      <td>19/03/2016 17:50</td>\n",
       "      <td>Seat_Ibiza_1.4_16V_Reference</td>\n",
       "      <td>private</td>\n",
       "      <td>offer</td>\n",
       "      <td>4500</td>\n",
       "      <td>control</td>\n",
       "      <td>small car</td>\n",
       "      <td>2006</td>\n",
       "      <td>manual</td>\n",
       "      <td>86</td>\n",
       "      <td>ibiza</td>\n",
       "      <td>60000</td>\n",
       "      <td>12</td>\n",
       "      <td>petrol</td>\n",
       "      <td>seat</td>\n",
       "      <td>no</td>\n",
       "      <td>19/03/2016 0:00</td>\n",
       "      <td>34537</td>\n",
       "      <td>2016-07-04 04:44:00</td>\n",
       "    </tr>\n",
       "    <tr>\n",
       "      <th>4</th>\n",
       "      <td>16/03/2016 14:51</td>\n",
       "      <td>Volvo_XC90_D5_Aut._RDesign_R_Design_AWD_GSHD_S...</td>\n",
       "      <td>private</td>\n",
       "      <td>offer</td>\n",
       "      <td>18750</td>\n",
       "      <td>test</td>\n",
       "      <td>suv</td>\n",
       "      <td>2008</td>\n",
       "      <td>automatic</td>\n",
       "      <td>185</td>\n",
       "      <td>xc_reihe</td>\n",
       "      <td>150000</td>\n",
       "      <td>11</td>\n",
       "      <td>diesel</td>\n",
       "      <td>volvo</td>\n",
       "      <td>no</td>\n",
       "      <td>16/03/2016 0:00</td>\n",
       "      <td>55270</td>\n",
       "      <td>2016-01-04 23:18:00</td>\n",
       "    </tr>\n",
       "    <tr>\n",
       "      <th>5</th>\n",
       "      <td>2016-02-04 12:51:00</td>\n",
       "      <td>VW_Passat_35i_Facelift_Limousine_TÃV_Neu</td>\n",
       "      <td>private</td>\n",
       "      <td>offer</td>\n",
       "      <td>988</td>\n",
       "      <td>test</td>\n",
       "      <td>limousine</td>\n",
       "      <td>1995</td>\n",
       "      <td>manual</td>\n",
       "      <td>90</td>\n",
       "      <td>passat</td>\n",
       "      <td>150000</td>\n",
       "      <td>2</td>\n",
       "      <td>petrol</td>\n",
       "      <td>volkswagen</td>\n",
       "      <td>no</td>\n",
       "      <td>2016-02-04 00:00:00</td>\n",
       "      <td>26826</td>\n",
       "      <td>2016-02-04 12:51:00</td>\n",
       "    </tr>\n",
       "    <tr>\n",
       "      <th>6</th>\n",
       "      <td>2016-03-04 11:06:00</td>\n",
       "      <td>Opel_astra</td>\n",
       "      <td>private</td>\n",
       "      <td>offer</td>\n",
       "      <td>400</td>\n",
       "      <td>test</td>\n",
       "      <td>station wagon</td>\n",
       "      <td>1996</td>\n",
       "      <td>manual</td>\n",
       "      <td>0</td>\n",
       "      <td>astra</td>\n",
       "      <td>150000</td>\n",
       "      <td>5</td>\n",
       "      <td>petrol</td>\n",
       "      <td>opel</td>\n",
       "      <td>NaN</td>\n",
       "      <td>2016-03-04 00:00:00</td>\n",
       "      <td>56422</td>\n",
       "      <td>2016-06-04 16:47:00</td>\n",
       "    </tr>\n",
       "    <tr>\n",
       "      <th>7</th>\n",
       "      <td>24/03/2016 15:52</td>\n",
       "      <td>Mercedes_Benz_CLK_Coupe_200</td>\n",
       "      <td>private</td>\n",
       "      <td>offer</td>\n",
       "      <td>1399</td>\n",
       "      <td>test</td>\n",
       "      <td>coupe</td>\n",
       "      <td>1997</td>\n",
       "      <td>manual</td>\n",
       "      <td>136</td>\n",
       "      <td>clk</td>\n",
       "      <td>150000</td>\n",
       "      <td>11</td>\n",
       "      <td>petrol</td>\n",
       "      <td>mercedes_benz</td>\n",
       "      <td>no</td>\n",
       "      <td>24/03/2016 0:00</td>\n",
       "      <td>13353</td>\n",
       "      <td>27/03/2016 12:45</td>\n",
       "    </tr>\n",
       "    <tr>\n",
       "      <th>8</th>\n",
       "      <td>28/03/2016 14:40</td>\n",
       "      <td>Vectra_C_Caravan_1_8_Edition_Facelift_m_AHK_In...</td>\n",
       "      <td>private</td>\n",
       "      <td>offer</td>\n",
       "      <td>4680</td>\n",
       "      <td>test</td>\n",
       "      <td>station wagon</td>\n",
       "      <td>2005</td>\n",
       "      <td>manual</td>\n",
       "      <td>122</td>\n",
       "      <td>vectra</td>\n",
       "      <td>150000</td>\n",
       "      <td>12</td>\n",
       "      <td>petrol</td>\n",
       "      <td>opel</td>\n",
       "      <td>no</td>\n",
       "      <td>28/03/2016 0:00</td>\n",
       "      <td>28307</td>\n",
       "      <td>2016-06-04 18:19:00</td>\n",
       "    </tr>\n",
       "    <tr>\n",
       "      <th>9</th>\n",
       "      <td>2016-05-04 11:38:00</td>\n",
       "      <td>Skoda_Octavia_2.0_TDI_DSG_Elegance</td>\n",
       "      <td>private</td>\n",
       "      <td>offer</td>\n",
       "      <td>8340</td>\n",
       "      <td>test</td>\n",
       "      <td>limousine</td>\n",
       "      <td>2005</td>\n",
       "      <td>automatic</td>\n",
       "      <td>140</td>\n",
       "      <td>octavia</td>\n",
       "      <td>125000</td>\n",
       "      <td>4</td>\n",
       "      <td>diesel</td>\n",
       "      <td>skoda</td>\n",
       "      <td>no</td>\n",
       "      <td>2016-05-04 00:00:00</td>\n",
       "      <td>16761</td>\n",
       "      <td>2016-05-04 11:38:00</td>\n",
       "    </tr>\n",
       "  </tbody>\n",
       "</table>\n",
       "</div>"
      ],
      "text/plain": [
       "           dateCrawled                                               name  \\\n",
       "0     30/03/2016 13:51                                       Zu_verkaufen   \n",
       "1  2016-07-03 09:54:00                             Volvo_XC90_2.4D_Summum   \n",
       "2  2016-01-04 00:57:00                                  Volkswagen_Touran   \n",
       "3     19/03/2016 17:50                       Seat_Ibiza_1.4_16V_Reference   \n",
       "4     16/03/2016 14:51  Volvo_XC90_D5_Aut._RDesign_R_Design_AWD_GSHD_S...   \n",
       "5  2016-02-04 12:51:00          VW_Passat_35i_Facelift_Limousine_TÃV_Neu   \n",
       "6  2016-03-04 11:06:00                                         Opel_astra   \n",
       "7     24/03/2016 15:52                        Mercedes_Benz_CLK_Coupe_200   \n",
       "8     28/03/2016 14:40  Vectra_C_Caravan_1_8_Edition_Facelift_m_AHK_In...   \n",
       "9  2016-05-04 11:38:00                 Skoda_Octavia_2.0_TDI_DSG_Elegance   \n",
       "\n",
       "    seller offerType  price   abtest    vehicleType  yearOfRegistration  \\\n",
       "0  private     offer   4450     test      limousine                2003   \n",
       "1  private     offer  13299  control            suv                2005   \n",
       "2  private     offer   3200     test            bus                2003   \n",
       "3  private     offer   4500  control      small car                2006   \n",
       "4  private     offer  18750     test            suv                2008   \n",
       "5  private     offer    988     test      limousine                1995   \n",
       "6  private     offer    400     test  station wagon                1996   \n",
       "7  private     offer   1399     test          coupe                1997   \n",
       "8  private     offer   4680     test  station wagon                2005   \n",
       "9  private     offer   8340     test      limousine                2005   \n",
       "\n",
       "     gearbox  powerPS     model  kilometer  monthOfRegistration fuelType  \\\n",
       "0     manual      150       3er     150000                    3   diesel   \n",
       "1     manual      163  xc_reihe     150000                    6   diesel   \n",
       "2     manual      101    touran     150000                   11   diesel   \n",
       "3     manual       86     ibiza      60000                   12   petrol   \n",
       "4  automatic      185  xc_reihe     150000                   11   diesel   \n",
       "5     manual       90    passat     150000                    2   petrol   \n",
       "6     manual        0     astra     150000                    5   petrol   \n",
       "7     manual      136       clk     150000                   11   petrol   \n",
       "8     manual      122    vectra     150000                   12   petrol   \n",
       "9  automatic      140   octavia     125000                    4   diesel   \n",
       "\n",
       "           brand notRepairedDamage          dateCreated  postalCode  \\\n",
       "0            bmw               NaN      30/03/2016 0:00       20257   \n",
       "1          volvo                no  2016-07-03 00:00:00       88045   \n",
       "2     volkswagen               NaN      31/03/2016 0:00       27449   \n",
       "3           seat                no      19/03/2016 0:00       34537   \n",
       "4          volvo                no      16/03/2016 0:00       55270   \n",
       "5     volkswagen                no  2016-02-04 00:00:00       26826   \n",
       "6           opel               NaN  2016-03-04 00:00:00       56422   \n",
       "7  mercedes_benz                no      24/03/2016 0:00       13353   \n",
       "8           opel                no      28/03/2016 0:00       28307   \n",
       "9          skoda                no  2016-05-04 00:00:00       16761   \n",
       "\n",
       "              lastSeen  \n",
       "0  2016-07-04 04:44:00  \n",
       "1     26/03/2016 13:17  \n",
       "2  2016-01-04 08:40:00  \n",
       "3  2016-07-04 04:44:00  \n",
       "4  2016-01-04 23:18:00  \n",
       "5  2016-02-04 12:51:00  \n",
       "6  2016-06-04 16:47:00  \n",
       "7     27/03/2016 12:45  \n",
       "8  2016-06-04 18:19:00  \n",
       "9  2016-05-04 11:38:00  "
      ]
     },
     "execution_count": 4,
     "metadata": {},
     "output_type": "execute_result"
    }
   ],
   "source": [
    "cars_sampled.head(10)"
   ]
  },
  {
   "cell_type": "code",
   "execution_count": 5,
   "metadata": {},
   "outputs": [],
   "source": [
    "cars=cars_sampled.copy()"
   ]
  },
  {
   "cell_type": "code",
   "execution_count": 6,
   "metadata": {},
   "outputs": [
    {
     "data": {
      "text/plain": [
       "dateCrawled               0\n",
       "name                      2\n",
       "seller                    0\n",
       "offerType                 0\n",
       "price                     0\n",
       "abtest                    0\n",
       "vehicleType            5188\n",
       "yearOfRegistration        0\n",
       "gearbox                2824\n",
       "powerPS                   0\n",
       "model                  2758\n",
       "kilometer                 0\n",
       "monthOfRegistration       0\n",
       "fuelType               4503\n",
       "brand                     0\n",
       "notRepairedDamage      9716\n",
       "dateCreated               0\n",
       "postalCode                0\n",
       "lastSeen                  0\n",
       "dtype: int64"
      ]
     },
     "execution_count": 6,
     "metadata": {},
     "output_type": "execute_result"
    }
   ],
   "source": [
    "cars.isnull().sum()"
   ]
  },
  {
   "cell_type": "code",
   "execution_count": 7,
   "metadata": {},
   "outputs": [
    {
     "name": "stdout",
     "output_type": "stream",
     "text": [
      "<class 'pandas.core.frame.DataFrame'>\n",
      "RangeIndex: 50001 entries, 0 to 50000\n",
      "Data columns (total 19 columns):\n",
      " #   Column               Non-Null Count  Dtype \n",
      "---  ------               --------------  ----- \n",
      " 0   dateCrawled          50001 non-null  object\n",
      " 1   name                 49999 non-null  object\n",
      " 2   seller               50001 non-null  object\n",
      " 3   offerType            50001 non-null  object\n",
      " 4   price                50001 non-null  int64 \n",
      " 5   abtest               50001 non-null  object\n",
      " 6   vehicleType          44813 non-null  object\n",
      " 7   yearOfRegistration   50001 non-null  int64 \n",
      " 8   gearbox              47177 non-null  object\n",
      " 9   powerPS              50001 non-null  int64 \n",
      " 10  model                47243 non-null  object\n",
      " 11  kilometer            50001 non-null  int64 \n",
      " 12  monthOfRegistration  50001 non-null  int64 \n",
      " 13  fuelType             45498 non-null  object\n",
      " 14  brand                50001 non-null  object\n",
      " 15  notRepairedDamage    40285 non-null  object\n",
      " 16  dateCreated          50001 non-null  object\n",
      " 17  postalCode           50001 non-null  int64 \n",
      " 18  lastSeen             50001 non-null  object\n",
      "dtypes: int64(6), object(13)\n",
      "memory usage: 7.2+ MB\n"
     ]
    }
   ],
   "source": [
    "cars.info()"
   ]
  },
  {
   "cell_type": "code",
   "execution_count": 8,
   "metadata": {},
   "outputs": [
    {
     "data": {
      "text/html": [
       "<div>\n",
       "<style scoped>\n",
       "    .dataframe tbody tr th:only-of-type {\n",
       "        vertical-align: middle;\n",
       "    }\n",
       "\n",
       "    .dataframe tbody tr th {\n",
       "        vertical-align: top;\n",
       "    }\n",
       "\n",
       "    .dataframe thead th {\n",
       "        text-align: right;\n",
       "    }\n",
       "</style>\n",
       "<table border=\"1\" class=\"dataframe\">\n",
       "  <thead>\n",
       "    <tr style=\"text-align: right;\">\n",
       "      <th></th>\n",
       "      <th>price</th>\n",
       "      <th>yearOfRegistration</th>\n",
       "      <th>powerPS</th>\n",
       "      <th>kilometer</th>\n",
       "      <th>monthOfRegistration</th>\n",
       "      <th>postalCode</th>\n",
       "    </tr>\n",
       "  </thead>\n",
       "  <tbody>\n",
       "    <tr>\n",
       "      <th>count</th>\n",
       "      <td>5.000100e+04</td>\n",
       "      <td>50001.000000</td>\n",
       "      <td>50001.000000</td>\n",
       "      <td>50001.000000</td>\n",
       "      <td>50001.000000</td>\n",
       "      <td>50001.000000</td>\n",
       "    </tr>\n",
       "    <tr>\n",
       "      <th>mean</th>\n",
       "      <td>6.559865e+03</td>\n",
       "      <td>2005.544229</td>\n",
       "      <td>116.496130</td>\n",
       "      <td>125613.687726</td>\n",
       "      <td>5.743725</td>\n",
       "      <td>50775.216696</td>\n",
       "    </tr>\n",
       "    <tr>\n",
       "      <th>std</th>\n",
       "      <td>8.581847e+04</td>\n",
       "      <td>122.991832</td>\n",
       "      <td>230.567709</td>\n",
       "      <td>40205.234483</td>\n",
       "      <td>3.711345</td>\n",
       "      <td>25743.701933</td>\n",
       "    </tr>\n",
       "    <tr>\n",
       "      <th>min</th>\n",
       "      <td>0.000000e+00</td>\n",
       "      <td>1000.000000</td>\n",
       "      <td>0.000000</td>\n",
       "      <td>5000.000000</td>\n",
       "      <td>0.000000</td>\n",
       "      <td>1067.000000</td>\n",
       "    </tr>\n",
       "    <tr>\n",
       "      <th>25%</th>\n",
       "      <td>1.150000e+03</td>\n",
       "      <td>1999.000000</td>\n",
       "      <td>69.000000</td>\n",
       "      <td>125000.000000</td>\n",
       "      <td>3.000000</td>\n",
       "      <td>30559.000000</td>\n",
       "    </tr>\n",
       "    <tr>\n",
       "      <th>50%</th>\n",
       "      <td>2.950000e+03</td>\n",
       "      <td>2003.000000</td>\n",
       "      <td>105.000000</td>\n",
       "      <td>150000.000000</td>\n",
       "      <td>6.000000</td>\n",
       "      <td>49504.000000</td>\n",
       "    </tr>\n",
       "    <tr>\n",
       "      <th>75%</th>\n",
       "      <td>7.190000e+03</td>\n",
       "      <td>2008.000000</td>\n",
       "      <td>150.000000</td>\n",
       "      <td>150000.000000</td>\n",
       "      <td>9.000000</td>\n",
       "      <td>71404.000000</td>\n",
       "    </tr>\n",
       "    <tr>\n",
       "      <th>max</th>\n",
       "      <td>1.234568e+07</td>\n",
       "      <td>9999.000000</td>\n",
       "      <td>19312.000000</td>\n",
       "      <td>150000.000000</td>\n",
       "      <td>12.000000</td>\n",
       "      <td>99998.000000</td>\n",
       "    </tr>\n",
       "  </tbody>\n",
       "</table>\n",
       "</div>"
      ],
      "text/plain": [
       "              price  yearOfRegistration       powerPS      kilometer  \\\n",
       "count  5.000100e+04        50001.000000  50001.000000   50001.000000   \n",
       "mean   6.559865e+03         2005.544229    116.496130  125613.687726   \n",
       "std    8.581847e+04          122.991832    230.567709   40205.234483   \n",
       "min    0.000000e+00         1000.000000      0.000000    5000.000000   \n",
       "25%    1.150000e+03         1999.000000     69.000000  125000.000000   \n",
       "50%    2.950000e+03         2003.000000    105.000000  150000.000000   \n",
       "75%    7.190000e+03         2008.000000    150.000000  150000.000000   \n",
       "max    1.234568e+07         9999.000000  19312.000000  150000.000000   \n",
       "\n",
       "       monthOfRegistration    postalCode  \n",
       "count         50001.000000  50001.000000  \n",
       "mean              5.743725  50775.216696  \n",
       "std               3.711345  25743.701933  \n",
       "min               0.000000   1067.000000  \n",
       "25%               3.000000  30559.000000  \n",
       "50%               6.000000  49504.000000  \n",
       "75%               9.000000  71404.000000  \n",
       "max              12.000000  99998.000000  "
      ]
     },
     "execution_count": 8,
     "metadata": {},
     "output_type": "execute_result"
    }
   ],
   "source": [
    "cars.describe()"
   ]
  },
  {
   "cell_type": "code",
   "execution_count": 9,
   "metadata": {},
   "outputs": [],
   "source": [
    "cars=cars.drop(['name','dateCrawled','dateCreated','postalCode','lastSeen'],axis=1)"
   ]
  },
  {
   "cell_type": "code",
   "execution_count": 10,
   "metadata": {},
   "outputs": [
    {
     "data": {
      "text/plain": [
       "(50001, 14)"
      ]
     },
     "execution_count": 10,
     "metadata": {},
     "output_type": "execute_result"
    }
   ],
   "source": [
    "cars.shape"
   ]
  },
  {
   "cell_type": "code",
   "execution_count": 11,
   "metadata": {},
   "outputs": [
    {
     "data": {
      "text/plain": [
       "Index(['seller', 'offerType', 'price', 'abtest', 'vehicleType',\n",
       "       'yearOfRegistration', 'gearbox', 'powerPS', 'model', 'kilometer',\n",
       "       'monthOfRegistration', 'fuelType', 'brand', 'notRepairedDamage'],\n",
       "      dtype='object')"
      ]
     },
     "execution_count": 11,
     "metadata": {},
     "output_type": "execute_result"
    }
   ],
   "source": [
    "cars.columns"
   ]
  },
  {
   "cell_type": "markdown",
   "metadata": {},
   "source": [
    "# EXPLORE (deciding the range)"
   ]
  },
  {
   "cell_type": "code",
   "execution_count": 12,
   "metadata": {},
   "outputs": [],
   "source": [
    "cars=cars[(cars.yearOfRegistration>=1950)\n",
    "          &(cars.yearOfRegistration<=2018)\n",
    "          &(cars.price>=100)\n",
    "          &(cars.price<=150000)\n",
    "          &(cars.powerPS>=10)\n",
    "          &(cars.powerPS<=500)]"
   ]
  },
  {
   "cell_type": "code",
   "execution_count": 13,
   "metadata": {},
   "outputs": [
    {
     "data": {
      "text/plain": [
       "(43155, 14)"
      ]
     },
     "execution_count": 13,
     "metadata": {},
     "output_type": "execute_result"
    }
   ],
   "source": [
    "cars.shape"
   ]
  },
  {
   "cell_type": "code",
   "execution_count": 14,
   "metadata": {},
   "outputs": [
    {
     "data": {
      "text/html": [
       "<div>\n",
       "<style scoped>\n",
       "    .dataframe tbody tr th:only-of-type {\n",
       "        vertical-align: middle;\n",
       "    }\n",
       "\n",
       "    .dataframe tbody tr th {\n",
       "        vertical-align: top;\n",
       "    }\n",
       "\n",
       "    .dataframe thead th {\n",
       "        text-align: right;\n",
       "    }\n",
       "</style>\n",
       "<table border=\"1\" class=\"dataframe\">\n",
       "  <thead>\n",
       "    <tr style=\"text-align: right;\">\n",
       "      <th></th>\n",
       "      <th>seller</th>\n",
       "      <th>offerType</th>\n",
       "      <th>price</th>\n",
       "      <th>abtest</th>\n",
       "      <th>vehicleType</th>\n",
       "      <th>yearOfRegistration</th>\n",
       "      <th>gearbox</th>\n",
       "      <th>powerPS</th>\n",
       "      <th>model</th>\n",
       "      <th>kilometer</th>\n",
       "      <th>monthOfRegistration</th>\n",
       "      <th>fuelType</th>\n",
       "      <th>brand</th>\n",
       "      <th>notRepairedDamage</th>\n",
       "    </tr>\n",
       "  </thead>\n",
       "  <tbody>\n",
       "    <tr>\n",
       "      <th>49991</th>\n",
       "      <td>private</td>\n",
       "      <td>offer</td>\n",
       "      <td>10900</td>\n",
       "      <td>test</td>\n",
       "      <td>limousine</td>\n",
       "      <td>2004</td>\n",
       "      <td>manual</td>\n",
       "      <td>231</td>\n",
       "      <td>x_reihe</td>\n",
       "      <td>150000</td>\n",
       "      <td>8</td>\n",
       "      <td>petrol</td>\n",
       "      <td>bmw</td>\n",
       "      <td>no</td>\n",
       "    </tr>\n",
       "    <tr>\n",
       "      <th>49992</th>\n",
       "      <td>private</td>\n",
       "      <td>offer</td>\n",
       "      <td>790</td>\n",
       "      <td>test</td>\n",
       "      <td>limousine</td>\n",
       "      <td>1998</td>\n",
       "      <td>manual</td>\n",
       "      <td>82</td>\n",
       "      <td>astra</td>\n",
       "      <td>150000</td>\n",
       "      <td>9</td>\n",
       "      <td>diesel</td>\n",
       "      <td>opel</td>\n",
       "      <td>no</td>\n",
       "    </tr>\n",
       "    <tr>\n",
       "      <th>49993</th>\n",
       "      <td>private</td>\n",
       "      <td>offer</td>\n",
       "      <td>830</td>\n",
       "      <td>test</td>\n",
       "      <td>small car</td>\n",
       "      <td>1999</td>\n",
       "      <td>manual</td>\n",
       "      <td>60</td>\n",
       "      <td>clio</td>\n",
       "      <td>125000</td>\n",
       "      <td>8</td>\n",
       "      <td>petrol</td>\n",
       "      <td>renault</td>\n",
       "      <td>no</td>\n",
       "    </tr>\n",
       "    <tr>\n",
       "      <th>49995</th>\n",
       "      <td>private</td>\n",
       "      <td>offer</td>\n",
       "      <td>2290</td>\n",
       "      <td>test</td>\n",
       "      <td>station wagon</td>\n",
       "      <td>2001</td>\n",
       "      <td>manual</td>\n",
       "      <td>101</td>\n",
       "      <td>astra</td>\n",
       "      <td>150000</td>\n",
       "      <td>3</td>\n",
       "      <td>petrol</td>\n",
       "      <td>opel</td>\n",
       "      <td>no</td>\n",
       "    </tr>\n",
       "    <tr>\n",
       "      <th>50000</th>\n",
       "      <td>commercial</td>\n",
       "      <td>offer</td>\n",
       "      <td>1100</td>\n",
       "      <td>test</td>\n",
       "      <td>small car</td>\n",
       "      <td>2006</td>\n",
       "      <td>manual</td>\n",
       "      <td>38</td>\n",
       "      <td>matiz</td>\n",
       "      <td>150000</td>\n",
       "      <td>10</td>\n",
       "      <td>petrol</td>\n",
       "      <td>chevrolet</td>\n",
       "      <td>no</td>\n",
       "    </tr>\n",
       "  </tbody>\n",
       "</table>\n",
       "</div>"
      ],
      "text/plain": [
       "           seller offerType  price abtest    vehicleType  yearOfRegistration  \\\n",
       "49991     private     offer  10900   test      limousine                2004   \n",
       "49992     private     offer    790   test      limousine                1998   \n",
       "49993     private     offer    830   test      small car                1999   \n",
       "49995     private     offer   2290   test  station wagon                2001   \n",
       "50000  commercial     offer   1100   test      small car                2006   \n",
       "\n",
       "      gearbox  powerPS    model  kilometer  monthOfRegistration fuelType  \\\n",
       "49991  manual      231  x_reihe     150000                    8   petrol   \n",
       "49992  manual       82    astra     150000                    9   diesel   \n",
       "49993  manual       60     clio     125000                    8   petrol   \n",
       "49995  manual      101    astra     150000                    3   petrol   \n",
       "50000  manual       38    matiz     150000                   10   petrol   \n",
       "\n",
       "           brand notRepairedDamage  \n",
       "49991        bmw                no  \n",
       "49992       opel                no  \n",
       "49993    renault                no  \n",
       "49995       opel                no  \n",
       "50000  chevrolet                no  "
      ]
     },
     "execution_count": 14,
     "metadata": {},
     "output_type": "execute_result"
    }
   ],
   "source": [
    "cars.tail(5)"
   ]
  },
  {
   "cell_type": "code",
   "execution_count": 15,
   "metadata": {},
   "outputs": [
    {
     "data": {
      "text/html": [
       "<div>\n",
       "<style scoped>\n",
       "    .dataframe tbody tr th:only-of-type {\n",
       "        vertical-align: middle;\n",
       "    }\n",
       "\n",
       "    .dataframe tbody tr th {\n",
       "        vertical-align: top;\n",
       "    }\n",
       "\n",
       "    .dataframe thead th {\n",
       "        text-align: right;\n",
       "    }\n",
       "</style>\n",
       "<table border=\"1\" class=\"dataframe\">\n",
       "  <thead>\n",
       "    <tr style=\"text-align: right;\">\n",
       "      <th></th>\n",
       "      <th>seller</th>\n",
       "      <th>offerType</th>\n",
       "      <th>price</th>\n",
       "      <th>abtest</th>\n",
       "      <th>vehicleType</th>\n",
       "      <th>yearOfRegistration</th>\n",
       "      <th>gearbox</th>\n",
       "      <th>powerPS</th>\n",
       "      <th>model</th>\n",
       "      <th>kilometer</th>\n",
       "      <th>monthOfRegistration</th>\n",
       "      <th>fuelType</th>\n",
       "      <th>brand</th>\n",
       "      <th>notRepairedDamage</th>\n",
       "    </tr>\n",
       "  </thead>\n",
       "  <tbody>\n",
       "    <tr>\n",
       "      <th>0</th>\n",
       "      <td>private</td>\n",
       "      <td>offer</td>\n",
       "      <td>4450</td>\n",
       "      <td>test</td>\n",
       "      <td>limousine</td>\n",
       "      <td>2003</td>\n",
       "      <td>manual</td>\n",
       "      <td>150</td>\n",
       "      <td>3er</td>\n",
       "      <td>150000</td>\n",
       "      <td>3</td>\n",
       "      <td>diesel</td>\n",
       "      <td>bmw</td>\n",
       "      <td>NaN</td>\n",
       "    </tr>\n",
       "    <tr>\n",
       "      <th>1</th>\n",
       "      <td>private</td>\n",
       "      <td>offer</td>\n",
       "      <td>13299</td>\n",
       "      <td>control</td>\n",
       "      <td>suv</td>\n",
       "      <td>2005</td>\n",
       "      <td>manual</td>\n",
       "      <td>163</td>\n",
       "      <td>xc_reihe</td>\n",
       "      <td>150000</td>\n",
       "      <td>6</td>\n",
       "      <td>diesel</td>\n",
       "      <td>volvo</td>\n",
       "      <td>no</td>\n",
       "    </tr>\n",
       "    <tr>\n",
       "      <th>2</th>\n",
       "      <td>private</td>\n",
       "      <td>offer</td>\n",
       "      <td>3200</td>\n",
       "      <td>test</td>\n",
       "      <td>bus</td>\n",
       "      <td>2003</td>\n",
       "      <td>manual</td>\n",
       "      <td>101</td>\n",
       "      <td>touran</td>\n",
       "      <td>150000</td>\n",
       "      <td>11</td>\n",
       "      <td>diesel</td>\n",
       "      <td>volkswagen</td>\n",
       "      <td>NaN</td>\n",
       "    </tr>\n",
       "  </tbody>\n",
       "</table>\n",
       "</div>"
      ],
      "text/plain": [
       "    seller offerType  price   abtest vehicleType  yearOfRegistration gearbox  \\\n",
       "0  private     offer   4450     test   limousine                2003  manual   \n",
       "1  private     offer  13299  control         suv                2005  manual   \n",
       "2  private     offer   3200     test         bus                2003  manual   \n",
       "\n",
       "   powerPS     model  kilometer  monthOfRegistration fuelType       brand  \\\n",
       "0      150       3er     150000                    3   diesel         bmw   \n",
       "1      163  xc_reihe     150000                    6   diesel       volvo   \n",
       "2      101    touran     150000                   11   diesel  volkswagen   \n",
       "\n",
       "  notRepairedDamage  \n",
       "0               NaN  \n",
       "1                no  \n",
       "2               NaN  "
      ]
     },
     "execution_count": 15,
     "metadata": {},
     "output_type": "execute_result"
    }
   ],
   "source": [
    "cars.head(3)"
   ]
  },
  {
   "cell_type": "markdown",
   "metadata": {},
   "source": [
    "# DROP MISSING VALUES"
   ]
  },
  {
   "cell_type": "code",
   "execution_count": 16,
   "metadata": {},
   "outputs": [],
   "source": [
    "cars_omit=cars.dropna(axis=0)"
   ]
  },
  {
   "cell_type": "code",
   "execution_count": 17,
   "metadata": {},
   "outputs": [
    {
     "data": {
      "text/plain": [
       "(33227, 14)"
      ]
     },
     "execution_count": 17,
     "metadata": {},
     "output_type": "execute_result"
    }
   ],
   "source": [
    "cars_omit.shape"
   ]
  },
  {
   "cell_type": "code",
   "execution_count": 18,
   "metadata": {},
   "outputs": [
    {
     "data": {
      "text/html": [
       "<div>\n",
       "<style scoped>\n",
       "    .dataframe tbody tr th:only-of-type {\n",
       "        vertical-align: middle;\n",
       "    }\n",
       "\n",
       "    .dataframe tbody tr th {\n",
       "        vertical-align: top;\n",
       "    }\n",
       "\n",
       "    .dataframe thead th {\n",
       "        text-align: right;\n",
       "    }\n",
       "</style>\n",
       "<table border=\"1\" class=\"dataframe\">\n",
       "  <thead>\n",
       "    <tr style=\"text-align: right;\">\n",
       "      <th></th>\n",
       "      <th>seller</th>\n",
       "      <th>offerType</th>\n",
       "      <th>price</th>\n",
       "      <th>abtest</th>\n",
       "      <th>vehicleType</th>\n",
       "      <th>yearOfRegistration</th>\n",
       "      <th>gearbox</th>\n",
       "      <th>powerPS</th>\n",
       "      <th>model</th>\n",
       "      <th>kilometer</th>\n",
       "      <th>monthOfRegistration</th>\n",
       "      <th>fuelType</th>\n",
       "      <th>brand</th>\n",
       "      <th>notRepairedDamage</th>\n",
       "    </tr>\n",
       "  </thead>\n",
       "  <tbody>\n",
       "    <tr>\n",
       "      <th>1</th>\n",
       "      <td>private</td>\n",
       "      <td>offer</td>\n",
       "      <td>13299</td>\n",
       "      <td>control</td>\n",
       "      <td>suv</td>\n",
       "      <td>2005</td>\n",
       "      <td>manual</td>\n",
       "      <td>163</td>\n",
       "      <td>xc_reihe</td>\n",
       "      <td>150000</td>\n",
       "      <td>6</td>\n",
       "      <td>diesel</td>\n",
       "      <td>volvo</td>\n",
       "      <td>no</td>\n",
       "    </tr>\n",
       "    <tr>\n",
       "      <th>3</th>\n",
       "      <td>private</td>\n",
       "      <td>offer</td>\n",
       "      <td>4500</td>\n",
       "      <td>control</td>\n",
       "      <td>small car</td>\n",
       "      <td>2006</td>\n",
       "      <td>manual</td>\n",
       "      <td>86</td>\n",
       "      <td>ibiza</td>\n",
       "      <td>60000</td>\n",
       "      <td>12</td>\n",
       "      <td>petrol</td>\n",
       "      <td>seat</td>\n",
       "      <td>no</td>\n",
       "    </tr>\n",
       "    <tr>\n",
       "      <th>4</th>\n",
       "      <td>private</td>\n",
       "      <td>offer</td>\n",
       "      <td>18750</td>\n",
       "      <td>test</td>\n",
       "      <td>suv</td>\n",
       "      <td>2008</td>\n",
       "      <td>automatic</td>\n",
       "      <td>185</td>\n",
       "      <td>xc_reihe</td>\n",
       "      <td>150000</td>\n",
       "      <td>11</td>\n",
       "      <td>diesel</td>\n",
       "      <td>volvo</td>\n",
       "      <td>no</td>\n",
       "    </tr>\n",
       "    <tr>\n",
       "      <th>5</th>\n",
       "      <td>private</td>\n",
       "      <td>offer</td>\n",
       "      <td>988</td>\n",
       "      <td>test</td>\n",
       "      <td>limousine</td>\n",
       "      <td>1995</td>\n",
       "      <td>manual</td>\n",
       "      <td>90</td>\n",
       "      <td>passat</td>\n",
       "      <td>150000</td>\n",
       "      <td>2</td>\n",
       "      <td>petrol</td>\n",
       "      <td>volkswagen</td>\n",
       "      <td>no</td>\n",
       "    </tr>\n",
       "    <tr>\n",
       "      <th>7</th>\n",
       "      <td>private</td>\n",
       "      <td>offer</td>\n",
       "      <td>1399</td>\n",
       "      <td>test</td>\n",
       "      <td>coupe</td>\n",
       "      <td>1997</td>\n",
       "      <td>manual</td>\n",
       "      <td>136</td>\n",
       "      <td>clk</td>\n",
       "      <td>150000</td>\n",
       "      <td>11</td>\n",
       "      <td>petrol</td>\n",
       "      <td>mercedes_benz</td>\n",
       "      <td>no</td>\n",
       "    </tr>\n",
       "  </tbody>\n",
       "</table>\n",
       "</div>"
      ],
      "text/plain": [
       "    seller offerType  price   abtest vehicleType  yearOfRegistration  \\\n",
       "1  private     offer  13299  control         suv                2005   \n",
       "3  private     offer   4500  control   small car                2006   \n",
       "4  private     offer  18750     test         suv                2008   \n",
       "5  private     offer    988     test   limousine                1995   \n",
       "7  private     offer   1399     test       coupe                1997   \n",
       "\n",
       "     gearbox  powerPS     model  kilometer  monthOfRegistration fuelType  \\\n",
       "1     manual      163  xc_reihe     150000                    6   diesel   \n",
       "3     manual       86     ibiza      60000                   12   petrol   \n",
       "4  automatic      185  xc_reihe     150000                   11   diesel   \n",
       "5     manual       90    passat     150000                    2   petrol   \n",
       "7     manual      136       clk     150000                   11   petrol   \n",
       "\n",
       "           brand notRepairedDamage  \n",
       "1          volvo                no  \n",
       "3           seat                no  \n",
       "4          volvo                no  \n",
       "5     volkswagen                no  \n",
       "7  mercedes_benz                no  "
      ]
     },
     "execution_count": 18,
     "metadata": {},
     "output_type": "execute_result"
    }
   ],
   "source": [
    "cars_omit.head()"
   ]
  },
  {
   "cell_type": "code",
   "execution_count": 19,
   "metadata": {},
   "outputs": [
    {
     "data": {
      "text/plain": [
       "<AxesSubplot:ylabel='price'>"
      ]
     },
     "execution_count": 19,
     "metadata": {},
     "output_type": "execute_result"
    },
    {
     "data": {
      "image/png": "[encoded data removed]",
      "text/plain": [
       "<Figure size 432x288 with 1 Axes>"
      ]
     },
     "metadata": {
      "needs_background": "light"
     },
     "output_type": "display_data"
    }
   ],
   "source": [
    "sns.boxplot(data=cars_omit,y='price')"
   ]
  },
  {
   "cell_type": "code",
   "execution_count": 21,
   "metadata": {},
   "outputs": [
    {
     "name": "stderr",
     "output_type": "stream",
     "text": [
      "<ipython-input-21-e757f460d5e8>:1: SettingWithCopyWarning: \n",
      "A value is trying to be set on a copy of a slice from a DataFrame\n",
      "\n",
      "See the caveats in the documentation: https://pandas.pydata.org/pandas-docs/stable/user_guide/indexing.html#returning-a-view-versus-a-copy\n",
      "  cars_omit.drop_duplicates(keep='first',inplace=True)\n"
     ]
    }
   ],
   "source": [
    "cars_omit.drop_duplicates(keep='first',inplace=True)"
   ]
  },
  {
   "cell_type": "code",
   "execution_count": 22,
   "metadata": {},
   "outputs": [
    {
     "data": {
      "text/plain": [
       "(32884, 14)"
      ]
     },
     "execution_count": 22,
     "metadata": {},
     "output_type": "execute_result"
    }
   ],
   "source": [
    "cars_omit.shape"
   ]
  },
  {
   "cell_type": "markdown",
   "metadata": {},
   "source": [
    "#Linear Regression"
   ]
  },
  {
   "cell_type": "code",
   "execution_count": 24,
   "metadata": {},
   "outputs": [],
   "source": [
    "from sklearn.model_selection import train_test_split\n",
    "from sklearn.linear_model import LinearRegression"
   ]
  },
  {
   "cell_type": "code",
   "execution_count": 25,
   "metadata": {},
   "outputs": [],
   "source": [
    "cars_omit=pd.get_dummies(cars_omit,drop_first=True)"
   ]
  },
  {
   "cell_type": "code",
   "execution_count": 27,
   "metadata": {},
   "outputs": [],
   "source": [
    "x1=cars_omit.drop((['price']),axis=1,inplace=False)"
   ]
  },
  {
   "cell_type": "code",
   "execution_count": 28,
   "metadata": {},
   "outputs": [],
   "source": [
    "y1=cars_omit['price']"
   ]
  },
  {
   "cell_type": "code",
   "execution_count": null,
   "metadata": {},
   "outputs": [],
   "source": [
    "#Check if dependent variable is normally distributed:"
   ]
  },
  {
   "cell_type": "code",
   "execution_count": 30,
   "metadata": {},
   "outputs": [
    {
     "data": {
      "text/plain": [
       "<AxesSubplot:>"
      ]
     },
     "execution_count": 30,
     "metadata": {},
     "output_type": "execute_result"
    },
    {
     "data": {
      "image/png": "[encoded data removed]",
      "text/plain": [
       "<Figure size 432x288 with 1 Axes>"
      ]
     },
     "metadata": {
      "needs_background": "light"
     },
     "output_type": "display_data"
    }
   ],
   "source": [
    "cars_omit['price'].hist()"
   ]
  },
  {
   "cell_type": "markdown",
   "metadata": {},
   "source": [
    "Not normal in this case, convert into normal:"
   ]
  },
  {
   "cell_type": "code",
   "execution_count": 31,
   "metadata": {},
   "outputs": [],
   "source": [
    "y1=np.log(y1)"
   ]
  },
  {
   "cell_type": "code",
   "execution_count": 32,
   "metadata": {},
   "outputs": [
    {
     "data": {
      "text/plain": [
       "<AxesSubplot:>"
      ]
     },
     "execution_count": 32,
     "metadata": {},
     "output_type": "execute_result"
    },
    {
     "data": {
      "image/png": "[encoded data removed]",
      "text/plain": [
       "<Figure size 432x288 with 1 Axes>"
      ]
     },
     "metadata": {
      "needs_background": "light"
     },
     "output_type": "display_data"
    }
   ],
   "source": [
    "y1.hist()"
   ]
  },
  {
   "cell_type": "markdown",
   "metadata": {},
   "source": [
    "#NOW DIVIDE:"
   ]
  },
  {
   "cell_type": "code",
   "execution_count": 33,
   "metadata": {},
   "outputs": [],
   "source": [
    "x_train,x_test,y_train,y_test=train_test_split(x1,y1,test_size=0.3,random_state=3)"
   ]
  },
  {
   "cell_type": "code",
   "execution_count": 34,
   "metadata": {},
   "outputs": [],
   "source": [
    "lgm=LinearRegression(fit_intercept=True)"
   ]
  },
  {
   "cell_type": "code",
   "execution_count": 35,
   "metadata": {},
   "outputs": [],
   "source": [
    "model_linr=lgm.fit(x_train,y_train)"
   ]
  },
  {
   "cell_type": "code",
   "execution_count": 37,
   "metadata": {},
   "outputs": [],
   "source": [
    "pred_y=lgm.predict(x_test)"
   ]
  },
  {
   "cell_type": "code",
   "execution_count": 38,
   "metadata": {},
   "outputs": [
    {
     "data": {
      "text/plain": [
       "array([8.39463252, 9.76972401, 8.82260376, ..., 8.76232409, 7.53676874,\n",
       "       7.89511056])"
      ]
     },
     "execution_count": 38,
     "metadata": {},
     "output_type": "execute_result"
    }
   ],
   "source": [
    "pred_y"
   ]
  },
  {
   "cell_type": "code",
   "execution_count": 39,
   "metadata": {},
   "outputs": [
    {
     "data": {
      "text/plain": [
       "-125.49550702710346"
      ]
     },
     "execution_count": 39,
     "metadata": {},
     "output_type": "execute_result"
    }
   ],
   "source": [
    "lgm.intercept_"
   ]
  },
  {
   "cell_type": "code",
   "execution_count": 41,
   "metadata": {},
   "outputs": [
    {
     "data": {
      "text/plain": [
       "array([ 6.66888428e-02,  5.76026455e-03, -7.32692934e-06,  3.95284778e-03,\n",
       "        2.42019095e-01, -2.61508583e-03,  4.25405236e-01,  1.75409027e-01,\n",
       "        4.94814994e-02, -6.60087342e-02, -6.02126746e-02, -9.38427611e-03,\n",
       "        2.23320027e-01, -4.96229555e-02,  3.27297292e-01,  2.80593379e-01,\n",
       "       -3.32874253e-01, -6.78693608e-01,  2.15375095e-01, -1.15669696e-11,\n",
       "        7.83986396e-01,  2.38536577e-01,  8.10191196e-03,  7.56650264e-01,\n",
       "        3.64646248e-01, -7.79641065e-01,  1.11617313e-01, -2.71323218e-01,\n",
       "        2.49757514e-01,  4.82059281e-01,  2.18813645e-01, -4.82592785e-01,\n",
       "        7.05233371e-02,  7.62170937e-01, -4.57688565e-01,  2.93051244e-01,\n",
       "       -4.21606942e-01, -4.30971156e-01,  5.02294760e-01,  7.21446284e-01,\n",
       "        3.93665760e-01,  2.93135486e-01,  4.67356200e-01,  2.80214953e-01,\n",
       "        3.49571131e-02, -4.95658503e-01,  6.45526410e-01, -4.44538621e-01,\n",
       "        7.54645258e-01,  6.71129126e-02,  7.50337547e-01,  2.43853327e-01,\n",
       "       -6.53059619e-02,  2.98451486e-01, -3.88984441e-01,  9.70492938e-02,\n",
       "        1.90600983e-01, -1.08492434e-01,  7.31744753e-02,  3.91873184e-02,\n",
       "        4.79238472e-01, -1.27757447e-02,  3.47939214e-01, -2.09550100e-01,\n",
       "       -5.68939984e-01,  1.43436574e-01,  3.10092642e-01,  4.50067168e-01,\n",
       "        3.03078331e-01,  4.05913521e-01,  1.39130825e-01, -3.11928289e-01,\n",
       "        5.33394379e-01,  6.16538057e-01,  8.65382217e-02,  2.58899569e-01,\n",
       "       -2.48068918e-02, -3.95806939e-01,  1.41918770e-01, -7.60873158e-01,\n",
       "        1.84482789e-01,  6.77449313e-01,  8.34382721e-01, -2.31956353e-01,\n",
       "        5.77708786e-02,  3.06503635e-01, -2.42545353e-01, -4.20261048e-01,\n",
       "       -3.69095073e-01, -4.11694332e-01,  6.15500211e-02, -3.79320158e-01,\n",
       "       -4.81432543e-01,  4.71547824e-02, -4.61358762e-02, -4.06252744e-01,\n",
       "        8.01235376e-01,  4.75288057e-01,  4.19777307e-01,  8.22806695e-01,\n",
       "        6.97603542e-01, -2.06814894e-02,  1.54924313e+00, -5.49133958e-01,\n",
       "        4.48777925e-01,  5.46999398e-01,  1.59560353e-01, -2.81050089e-01,\n",
       "       -2.23387230e-01, -3.85661607e-01, -7.12434769e-01,  8.64527096e-01,\n",
       "        3.49980552e-01,  1.43544293e-01,  1.64291935e-01,  4.08232017e-01,\n",
       "        5.96458815e-01,  4.18248951e-01, -2.10453893e-01, -5.13275670e-01,\n",
       "        4.89838205e-01,  1.15624492e+00, -2.78810287e-01,  3.68466747e-01,\n",
       "        3.71788696e-01, -1.39662305e-01, -7.03420070e-02, -1.16815648e-01,\n",
       "        2.65383207e-01, -2.15038387e-01,  7.04394514e-01,  5.81618562e-01,\n",
       "        1.60690839e-01, -3.84668367e-03,  6.55287632e-01, -8.47709132e-02,\n",
       "        5.45620212e-01,  5.16531447e-01, -3.85522921e-01, -2.64905958e-01,\n",
       "        6.89616992e-01,  2.28015253e+00, -2.62567745e-14,  2.50817910e-03,\n",
       "       -3.66386026e-01,  5.07813691e-01, -7.06388715e-01,  1.13223264e-01,\n",
       "       -1.05913468e+00, -9.82867940e-02,  6.28131938e-01,  4.64230667e-02,\n",
       "       -1.59725918e-01, -3.25565666e-01, -6.21106390e-01, -2.62250919e-01,\n",
       "       -4.38217049e-01,  1.61707617e+00, -2.76618399e-01, -5.93107727e-01,\n",
       "       -5.70444065e-02,  1.28072974e-01,  5.38639782e-01, -3.70311844e-01,\n",
       "       -1.23657116e-01, -1.78099173e+00,  3.70913089e-01,  1.48137809e+00,\n",
       "        5.67359652e-01,  6.20976679e-01,  1.05609318e+00,  5.60411869e-01,\n",
       "       -5.71898205e-01,  4.78407250e-01, -9.16523964e-01, -4.94263067e-01,\n",
       "        2.78989450e-01,  7.08352460e-01,  5.47133141e-01,  2.94666589e-01,\n",
       "       -1.49203095e-01, -1.72423320e-01,  6.79648195e-01, -2.26263209e-01,\n",
       "       -1.26111499e-01, -4.18225549e-02, -1.83932504e-02,  4.87579625e-01,\n",
       "        6.11957483e-01,  5.70540834e-01,  7.73510568e-01, -1.64659018e-01,\n",
       "       -2.60151458e-01, -1.96113474e-01, -1.66899439e-01,  1.68906371e+00,\n",
       "        3.04546409e-01,  6.29264568e-01,  6.72364707e-01,  4.87606821e-01,\n",
       "        5.69406626e-01,  4.69106493e-01, -3.69404048e-02,  7.58837267e-01,\n",
       "       -5.19903499e-01, -8.43456849e-02,  5.36113569e-01, -5.85766905e-01,\n",
       "        7.84705179e-02, -2.72840411e-01,  1.84159249e+00, -7.99360578e-15,\n",
       "       -4.52216271e-02, -2.17350096e-01,  1.24324262e+00,  6.93934549e-01,\n",
       "       -3.15758123e-01,  7.36146717e-01, -1.76485680e-01,  1.05631425e+00,\n",
       "        8.66208024e-01,  9.75712238e-03, -1.88293765e-01,  5.67912420e-01,\n",
       "        3.01817099e-01,  1.68088312e+00, -5.46484529e-01,  4.84746754e-02,\n",
       "        4.18637079e-01, -1.25964042e-01,  1.25291761e-01,  3.71003005e-01,\n",
       "        7.40401756e-01,  4.22953134e-01,  8.35559911e-01, -6.08423833e-01,\n",
       "       -1.76134857e-01, -1.88987993e-01,  6.78030864e-01,  9.18173085e-01,\n",
       "        5.19712458e-01, -1.78057304e-01, -6.34476583e-01,  3.59912300e-01,\n",
       "        1.99697291e-01, -1.14585923e-01,  9.37052840e-02, -2.17443006e-01,\n",
       "        3.21509896e-01, -3.04898081e-01,  4.38785620e-01, -2.97756256e-01,\n",
       "        8.02317595e-01,  1.48724088e-01,  4.98856978e-01, -1.93395706e-01,\n",
       "       -2.78815321e-01, -1.71324987e-01,  1.29163439e-01, -2.99941969e-01,\n",
       "        1.34012987e-01, -1.18140828e-01,  9.00524040e-02, -1.72291799e-01,\n",
       "       -7.64344373e-03,  7.59168726e-01,  1.22735603e-01, -2.48649764e-01,\n",
       "       -3.42777613e-01, -3.80881832e-02, -3.28651946e-01, -1.19690980e+00,\n",
       "       -3.20951063e-01, -2.94321991e-01, -4.03414241e-01, -6.16708697e-01,\n",
       "        5.17510363e-01,  2.44596716e-01, -6.65635985e-01, -1.49466681e+00,\n",
       "       -4.07621091e-02,  7.57929940e-01, -4.34555325e-01,  5.41852504e-01,\n",
       "        9.88430229e-01, -3.73485248e-01, -2.90416727e-01,  2.67924642e-01,\n",
       "       -3.73977377e-01,  9.68955422e-01,  3.32938989e-01, -6.69439243e-01,\n",
       "       -4.43741147e-01, -4.59003374e-01, -1.46143152e-01, -4.80966523e-01,\n",
       "       -1.22641592e-02, -2.10001475e-01,  5.25152042e-02,  1.14230379e+00,\n",
       "        3.41582547e-01, -3.32560915e-01, -6.79681841e-01])"
      ]
     },
     "execution_count": 41,
     "metadata": {},
     "output_type": "execute_result"
    }
   ],
   "source": [
    "lgm.coef_"
   ]
  },
  {
   "cell_type": "code",
   "execution_count": 42,
   "metadata": {},
   "outputs": [],
   "source": [
    "r2_train=model_linr.score(x_train,y_train)"
   ]
  },
  {
   "cell_type": "code",
   "execution_count": 43,
   "metadata": {},
   "outputs": [
    {
     "name": "stdout",
     "output_type": "stream",
     "text": [
      "0.7809085074741303\n"
     ]
    }
   ],
   "source": [
    "print(r2_train)"
   ]
  },
  {
   "cell_type": "code",
   "execution_count": 44,
   "metadata": {},
   "outputs": [],
   "source": [
    "r2_test=model_linr.score(x_test,y_test)"
   ]
  },
  {
   "cell_type": "code",
   "execution_count": 45,
   "metadata": {},
   "outputs": [
    {
     "name": "stdout",
     "output_type": "stream",
     "text": [
      "0.7669031048541398\n"
     ]
    }
   ],
   "source": [
    "print(r2_test)"
   ]
  },
  {
   "cell_type": "code",
   "execution_count": null,
   "metadata": {},
   "outputs": [],
   "source": []
  }
 ],
 "metadata": {
  "kernelspec": {
   "display_name": "Python 3",
   "language": "python",
   "name": "python3"
  },
  "language_info": {
   "codemirror_mode": {
    "name": "ipython",
    "version": 3
   },
   "file_extension": ".py",
   "mimetype": "text/x-python",
   "name": "python",
   "nbconvert_exporter": "python",
   "pygments_lexer": "ipython3",
   "version": "3.8.5"
  }
 },
 "nbformat": 4,
 "nbformat_minor": 4
}
